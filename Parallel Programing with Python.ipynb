{
 "cells": [
  {
   "cell_type": "markdown",
   "metadata": {},
   "source": [
    "# Parallel Programming with Python\n",
    "\n",
    "##### Made by: Karla Delgado Avendaño"
   ]
  },
  {
   "cell_type": "markdown",
   "metadata": {},
   "source": [
    "### Pure Python Approach\n",
    "\n",
    "\n",
    "    1.Write a program in Python which solves the program without any parallelization."
   ]
  },
  {
   "cell_type": "code",
   "execution_count": 9,
   "metadata": {},
   "outputs": [
    {
     "name": "stdout",
     "output_type": "stream",
     "text": [
      "Pi with Python 3.141592844032086\n",
      "\n",
      "real\t0m5.134s\n",
      "user\t0m5.400s\n",
      "sys\t0m0.775s\n"
     ]
    }
   ],
   "source": [
    "!time python3 basicpython.py"
   ]
  },
  {
   "cell_type": "markdown",
   "metadata": {},
   "source": [
    "This method is straightforward but can be slow, especially with a high number of intervals because each calculation must be completed serially, one after the other. This lack of parallelism leads to longer computation times as the precision of the approximation increases."
   ]
  },
  {
   "cell_type": "markdown",
   "metadata": {},
   "source": [
    "### Parallel Computing with Multiprocessing\n",
    "\n",
    "    Write a program in Python which uses parallel computing via multiprocessingto solve the problem."
   ]
  },
  {
   "cell_type": "code",
   "execution_count": 10,
   "metadata": {},
   "outputs": [
    {
     "name": "stdout",
     "output_type": "stream",
     "text": [
      "Pi using multiprocessing: 3.141592844031421\n",
      "\n",
      "real\t0m0.242s\n",
      "user\t0m0.443s\n",
      "sys\t0m0.833s\n"
     ]
    }
   ],
   "source": [
    "!time python3 multiprocess.py"
   ]
  },
  {
   "cell_type": "markdown",
   "metadata": {},
   "source": [
    "The `multiprocessing` library in Python is utilized to parallelize the calculation of π. Each process can independently compute a portion of the sum, and results are then combined to achieve the final value. This approach significantly reduces computation time, particularly on multi-core systems."
   ]
  },
  {
   "cell_type": "markdown",
   "metadata": {},
   "source": [
    "### Distributed Parallel Computing with mpi4py\n",
    "\n",
    "    Write a program in Python which uses distributed parallel computing via mi4pyto solve the problem."
   ]
  },
  {
   "cell_type": "code",
   "execution_count": 11,
   "metadata": {},
   "outputs": [
    {
     "name": "stdout",
     "output_type": "stream",
     "text": [
      "Pi with MPI: 3.141592844031421\n",
      "\n",
      "real\t0m0.585s\n",
      "user\t0m1.010s\n",
      "sys\t0m1.401s\n"
     ]
    }
   ],
   "source": [
    "!time mpirun -n 4 python3 mi4pyparallel.py"
   ]
  },
  {
   "cell_type": "markdown",
   "metadata": {},
   "source": [
    "`mpi4py` is a Python library that provides bindings of the MPI standard for Python, which is widely used for high-performance distributed computing. It allows communication between processes, which can be on the same machine or across a network of machines.\n"
   ]
  }
 ],
 "metadata": {
  "kernelspec": {
   "display_name": "Python 3",
   "language": "python",
   "name": "python3"
  },
  "language_info": {
   "codemirror_mode": {
    "name": "ipython",
    "version": 3
   },
   "file_extension": ".py",
   "mimetype": "text/x-python",
   "name": "python",
   "nbconvert_exporter": "python",
   "pygments_lexer": "ipython3",
   "version": "3.10.12"
  }
 },
 "nbformat": 4,
 "nbformat_minor": 2
}
